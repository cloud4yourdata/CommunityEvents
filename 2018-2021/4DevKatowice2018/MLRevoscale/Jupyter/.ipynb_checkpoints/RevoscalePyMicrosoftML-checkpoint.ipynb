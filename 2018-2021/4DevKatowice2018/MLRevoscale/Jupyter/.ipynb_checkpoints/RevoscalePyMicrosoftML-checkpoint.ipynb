{
 "cells": [
  {
   "cell_type": "code",
   "execution_count": 1,
   "metadata": {
    "collapsed": true
   },
   "outputs": [],
   "source": [
    "import pandas as pd\n",
    "import pyodbc\n",
    "from sklearn.model_selection import train_test_split\n",
    "from sklearn.metrics import r2_score"
   ]
  },
  {
   "cell_type": "code",
   "execution_count": 2,
   "metadata": {
    "collapsed": true
   },
   "outputs": [],
   "source": [
    "# Connection string to connect to SQL Server named instance\n",
    "conn_str = 'Driver=SQL Server;Server=.;Database=RevoScaleDb;Trusted_Connection=True;'\n",
    "query ='SELECT Facidity, Vacidity, Citric, Sugar, Chlorides, \\\n",
    "               Fsulfur, Tsulfur, Density, pH,Sulphates, Alcohol,\\\n",
    "               CASE WHEN Color =\\'red\\' THEN 1 ELSE 0 END ColNum,\\\n",
    "               Quality\\\n",
    "        FROM dbo.WineTrain\\\n",
    "        ORDER BY Id';\n",
    "conn = pyodbc.connect(conn_str)\n",
    "#Get traing dataset\n",
    "wines = pd.read_sql(query,conn)"
   ]
  },
  {
   "cell_type": "code",
   "execution_count": 4,
   "metadata": {
    "collapsed": true
   },
   "outputs": [],
   "source": [
    "wines_train, wines_test = train_test_split(wines)"
   ]
  },
  {
   "cell_type": "code",
   "execution_count": 5,
   "metadata": {},
   "outputs": [
    {
     "data": {
      "text/html": [
       "<div>\n",
       "<table border=\"1\" class=\"dataframe\">\n",
       "  <thead>\n",
       "    <tr style=\"text-align: right;\">\n",
       "      <th></th>\n",
       "      <th>Facidity</th>\n",
       "      <th>Vacidity</th>\n",
       "      <th>Citric</th>\n",
       "      <th>Sugar</th>\n",
       "      <th>Chlorides</th>\n",
       "      <th>Fsulfur</th>\n",
       "      <th>Tsulfur</th>\n",
       "      <th>Density</th>\n",
       "      <th>pH</th>\n",
       "      <th>Sulphates</th>\n",
       "      <th>Alcohol</th>\n",
       "      <th>ColNum</th>\n",
       "      <th>Quality</th>\n",
       "    </tr>\n",
       "  </thead>\n",
       "  <tbody>\n",
       "    <tr>\n",
       "      <th>347</th>\n",
       "      <td>6.7</td>\n",
       "      <td>0.19</td>\n",
       "      <td>0.41</td>\n",
       "      <td>15.6</td>\n",
       "      <td>0.056</td>\n",
       "      <td>75.0</td>\n",
       "      <td>155.0</td>\n",
       "      <td>0.99950</td>\n",
       "      <td>3.20</td>\n",
       "      <td>0.44</td>\n",
       "      <td>8.8</td>\n",
       "      <td>0</td>\n",
       "      <td>6</td>\n",
       "    </tr>\n",
       "    <tr>\n",
       "      <th>4425</th>\n",
       "      <td>5.6</td>\n",
       "      <td>0.66</td>\n",
       "      <td>0.00</td>\n",
       "      <td>2.2</td>\n",
       "      <td>0.087</td>\n",
       "      <td>3.0</td>\n",
       "      <td>11.0</td>\n",
       "      <td>0.99378</td>\n",
       "      <td>3.71</td>\n",
       "      <td>0.63</td>\n",
       "      <td>12.8</td>\n",
       "      <td>1</td>\n",
       "      <td>7</td>\n",
       "    </tr>\n",
       "    <tr>\n",
       "      <th>3935</th>\n",
       "      <td>10.4</td>\n",
       "      <td>0.24</td>\n",
       "      <td>0.46</td>\n",
       "      <td>1.8</td>\n",
       "      <td>0.075</td>\n",
       "      <td>6.0</td>\n",
       "      <td>21.0</td>\n",
       "      <td>0.99760</td>\n",
       "      <td>3.25</td>\n",
       "      <td>1.02</td>\n",
       "      <td>10.8</td>\n",
       "      <td>1</td>\n",
       "      <td>7</td>\n",
       "    </tr>\n",
       "    <tr>\n",
       "      <th>4392</th>\n",
       "      <td>8.8</td>\n",
       "      <td>0.27</td>\n",
       "      <td>0.39</td>\n",
       "      <td>2.0</td>\n",
       "      <td>0.100</td>\n",
       "      <td>20.0</td>\n",
       "      <td>27.0</td>\n",
       "      <td>0.99546</td>\n",
       "      <td>3.15</td>\n",
       "      <td>0.69</td>\n",
       "      <td>11.2</td>\n",
       "      <td>1</td>\n",
       "      <td>6</td>\n",
       "    </tr>\n",
       "    <tr>\n",
       "      <th>119</th>\n",
       "      <td>7.3</td>\n",
       "      <td>0.32</td>\n",
       "      <td>0.48</td>\n",
       "      <td>13.3</td>\n",
       "      <td>0.060</td>\n",
       "      <td>57.0</td>\n",
       "      <td>196.0</td>\n",
       "      <td>0.99820</td>\n",
       "      <td>3.04</td>\n",
       "      <td>0.50</td>\n",
       "      <td>9.2</td>\n",
       "      <td>0</td>\n",
       "      <td>5</td>\n",
       "    </tr>\n",
       "  </tbody>\n",
       "</table>\n",
       "</div>"
      ],
      "text/plain": [
       "      Facidity  Vacidity  Citric  Sugar  Chlorides  Fsulfur  Tsulfur  Density  \\\n",
       "347        6.7      0.19    0.41   15.6      0.056     75.0    155.0  0.99950   \n",
       "4425       5.6      0.66    0.00    2.2      0.087      3.0     11.0  0.99378   \n",
       "3935      10.4      0.24    0.46    1.8      0.075      6.0     21.0  0.99760   \n",
       "4392       8.8      0.27    0.39    2.0      0.100     20.0     27.0  0.99546   \n",
       "119        7.3      0.32    0.48   13.3      0.060     57.0    196.0  0.99820   \n",
       "\n",
       "        pH  Sulphates  Alcohol  ColNum  Quality  \n",
       "347   3.20       0.44      8.8       0        6  \n",
       "4425  3.71       0.63     12.8       1        7  \n",
       "3935  3.25       1.02     10.8       1        7  \n",
       "4392  3.15       0.69     11.2       1        6  \n",
       "119   3.04       0.50      9.2       0        5  "
      ]
     },
     "execution_count": 5,
     "metadata": {},
     "output_type": "execute_result"
    }
   ],
   "source": [
    "wines_test.head()"
   ]
  },
  {
   "cell_type": "code",
   "execution_count": 11,
   "metadata": {},
   "outputs": [
    {
     "name": "stdout",
     "output_type": "stream",
     "text": [
      "\n",
      "oneFilePerTree is not a logical and is being reset to FALSE\n",
      "\n",
      "allowDiskWrite is not a logical and is being reset to true\n",
      "\n",
      "useWriteDataSource is not an integer and is being reset to 0\n",
      "\n",
      "autoCleanup is not a logical and is being reset to TRUE\n",
      "Rows Read: 3411, Total Rows Processed: 3411, Total Chunk Time: 0.010 seconds \n",
      "Rows Read: 3411, Total Rows Processed: 3411, Total Chunk Time: 0.014 seconds \n",
      "Rows Read: 3411, Total Rows Processed: 3411, Total Chunk Time: 0.019 seconds \n",
      "Rows Read: 2, Total Rows Processed: 2, Total Chunk Time: 0.003 seconds \n",
      "Rows Read: 3411, Total Rows Processed: 3411, Total Chunk Time: 0.017 seconds \n",
      "oneFilePerTree is not a logical and is being reset to FALSE\n",
      "Rows Read: 4, Total Rows Processed: 4, Total Chunk Time: 0.009 seconds \n",
      "Rows Read: 3411, Total Rows Processed: 3411, Total Chunk Time: 0.021 seconds \n",
      "Rows Read: 8, Total Rows Processed: 8, Total Chunk Time: 0.017 seconds \n",
      "Rows Read: 3411, Total Rows Processed: 3411, Total Chunk Time: 0.023 seconds \n",
      "Rows Read: 16, Total Rows Processed: 16, Total Chunk Time: 0.022 seconds \n",
      "Rows Read: 3411, Total Rows Processed: 3411, Total Chunk Time: 0.021 seconds \n",
      "Rows Read: 28, Total Rows Processed: 28, Total Chunk Time: 0.035 seconds \n",
      "Rows Read: 3411, Total Rows Processed: 3411, Total Chunk Time: 0.015 seconds \n",
      "Rows Read: 32, Total Rows Processed: 32, Total Chunk Time: 0.026 seconds \n",
      "Rows Read: 3411, Total Rows Processed: 3411, Total Chunk Time: 0.014 seconds \n",
      "Rows Read: 34, Total Rows Processed: 34, Total Chunk Time: 0.024 seconds \n",
      "Rows Read: 3411, Total Rows Processed: 3411, Total Chunk Time: 0.015 seconds \n",
      "Rows Read: 30, Total Rows Processed: 30, Total Chunk Time: 0.025 seconds \n",
      "Rows Read: 3411, Total Rows Processed: 3411, Total Chunk Time: 0.014 seconds \n",
      "Rows Read: 26, Total Rows Processed: 26, Total Chunk Time: 0.017 seconds \n",
      "Rows Read: 3411, Total Rows Processed: 3411, Total Chunk Time: 0.015 seconds \n",
      "Rows Read: 14, Total Rows Processed: 14, Total Chunk Time: Less than .001 seconds \n",
      "Rows Read: 3411, Total Rows Processed: 3411, Total Chunk Time: 0.010 seconds \n",
      "Rows Read: 3411, Total Rows Processed: 3411, Total Chunk Time: 0.016 seconds \n",
      "Rows Read: 2, Total Rows Processed: 2, Total Chunk Time: 0.005 seconds \n",
      "Rows Read: 3411, Total Rows Processed: 3411, Total Chunk Time: 0.016 seconds \n",
      "Rows Read: 4, Total Rows Processed: 4, Total Chunk Time: 0.008 seconds \n",
      "Rows Read: 3411, Total Rows Processed: 3411, Total Chunk Time: 0.014 seconds \n",
      "Rows Read: 8, Total Rows Processed: 8, Total Chunk Time: 0.009 seconds \n",
      "Rows Read: 3411, Total Rows Processed: 3411, Total Chunk Time: 0.014 seconds \n",
      "Rows Read: 10, Total Rows Processed: 10, Total Chunk Time: 0.008 seconds \n",
      "Rows Read: 3411, Total Rows Processed: 3411, Total Chunk Time: 0.014 seconds \n",
      "Rows Read: 12, Total Rows Processed: 12, Total Chunk Time: 0.012 seconds \n",
      "Rows Read: 3411, Total Rows Processed: 3411, Total Chunk Time: 0.019 seconds \n",
      "Rows Read: 12, Total Rows Processed: 12, Total Chunk Time: 0.017 seconds \n",
      "Rows Read: 3411, Total Rows Processed: 3411, Total Chunk Time: 0.016 seconds \n",
      "Rows Read: 12, Total Rows Processed: 12, Total Chunk Time: 0.015 seconds \n",
      "Rows Read: 3411, Total Rows Processed: 3411, Total Chunk Time: 0.018 seconds \n",
      "Rows Read: 14, Total Rows Processed: 14, Total Chunk Time: 0.009 seconds \n",
      "Rows Read: 3411, Total Rows Processed: 3411, Total Chunk Time: 0.013 seconds \n",
      "Rows Read: 10, Total Rows Processed: 10, Total Chunk Time: 0.008 seconds \n",
      "Rows Read: 3411, Total Rows Processed: 3411, Total Chunk Time: 0.016 seconds \n",
      "Rows Read: 8, Total Rows Processed: 8, Total Chunk Time: 0.001 seconds \n",
      "Rows Read: 3411, Total Rows Processed: 3411, Total Chunk Time: 0.009 seconds \n",
      "Rows Read: 3411, Total Rows Processed: 3411, Total Chunk Time: 0.015 seconds \n",
      "Rows Read: 3411, Total Rows Processed: 3411, Total Chunk Time: 0.022 seconds \n",
      "Rows Read: 2, Total Rows Processed: 2, Total Chunk Time: 0.005 seconds \n",
      "Rows Read: 3411, Total Rows Processed: 3411, Total Chunk Time: 0.014 seconds \n",
      "Rows Read: 4, Total Rows Processed: 4, Total Chunk Time: 0.007 seconds \n",
      "Rows Read: 3411, Total Rows Processed: 3411, Total Chunk Time: 0.015 seconds \n",
      "Rows Read: 8, Total Rows Processed: 8, Total Chunk Time: 0.015 seconds \n",
      "Rows Read: 3411, Total Rows Processed: 3411, Total Chunk Time: 0.014 seconds \n",
      "Rows Read: 14, Total Rows Processed: 14, Total Chunk Time: 0.014 seconds \n",
      "Rows Read: 3411, Total Rows Processed: 3411, Total Chunk Time: 0.016 seconds \n",
      "Rows Read: 18, Total Rows Processed: 18, Total Chunk Time: 0.016 seconds \n",
      "Rows Read: 3411, Total Rows Processed: 3411, Total Chunk Time: 0.013 seconds \n",
      "Rows Read: 16, Total Rows Processed: 16, Total Chunk Time: 0.014 seconds \n",
      "Rows Read: 3411, Total Rows Processed: 3411, Total Chunk Time: 0.015 seconds \n",
      "Rows Read: 12, Total Rows Processed: 12, Total Chunk Time: 0.014 seconds \n",
      "Rows Read: 3411, Total Rows Processed: 3411, Total Chunk Time: 0.015 seconds \n",
      "Rows Read: 10, Total Rows Processed: 10, Total Chunk Time: 0.006 seconds \n",
      "Rows Read: 3411, Total Rows Processed: 3411, Total Chunk Time: 0.017 seconds \n",
      "Rows Read: 4, Total Rows Processed: 4, Total Chunk Time: 0.004 seconds \n",
      "Rows Read: 3411, Total Rows Processed: 3411, Total Chunk Time: 0.020 seconds \n",
      "Rows Read: 2, Total Rows Processed: 2, Total Chunk Time: Less than .001 seconds \n",
      "Rows Read: 3411, Total Rows Processed: 3411, Total Chunk Time: 0.008 seconds \n",
      "Rows Read: 3411, Total Rows Processed: 3411, Total Chunk Time: 0.001 seconds \n",
      "\n",
      "Elapsed time for DTreeEstimation: 1.238 secs.\n",
      "\n",
      "Elapsed time for BxDTreeBase: 1.241 secs.\n",
      " \n"
     ]
    }
   ],
   "source": [
    "from revoscalepy import rx_dtree\n",
    "features = wines.columns.drop([\"Quality\"])\n",
    "model = rx_dtree(\"Quality ~\" + \"+\".join(features), data=wines_train, method=\"regression\")"
   ]
  },
  {
   "cell_type": "code",
   "execution_count": 12,
   "metadata": {},
   "outputs": [
    {
     "name": "stdout",
     "output_type": "stream",
     "text": [
      "Rows Read: 1138, Total Rows Processed: 1138, Total Chunk Time: 0.004 seconds \n",
      "   Quality_Pred  Quality\n",
      "0      5.750000      6.0\n",
      "1      5.666667      7.0\n",
      "2      6.343750      7.0\n",
      "3      6.488889      6.0\n",
      "4      5.093750      5.0\n"
     ]
    }
   ],
   "source": [
    "from revoscalepy import rx_predict\n",
    "pred = rx_predict(model, wines_test, extra_vars_to_write=[\"Quality\"])\n",
    "print(pred.head())"
   ]
  },
  {
   "cell_type": "code",
   "execution_count": 8,
   "metadata": {},
   "outputs": [
    {
     "name": "stdout",
     "output_type": "stream",
     "text": [
      "R2= 0.305791804947\n",
      "Accuracy: 31%\n"
     ]
    }
   ],
   "source": [
    "r2 = r2_score(pred.Quality, pred.Quality_Pred)\n",
    "print(\"Accuracy: {}%\".format(int(round(r2 * 100))))"
   ]
  },
  {
   "cell_type": "code",
   "execution_count": 14,
   "metadata": {
    "collapsed": true
   },
   "outputs": [],
   "source": [
    "from revoscalepy import rx_serialize_model\n",
    "rx_trees_model = rx_serialize_model(model, realtime_scoring_only = True);"
   ]
  },
  {
   "cell_type": "code",
   "execution_count": 16,
   "metadata": {},
   "outputs": [],
   "source": [
    "#Save model\n",
    "conn = pyodbc.connect(conn_str)\n",
    "cursor = conn.cursor()\n",
    "cursor.execute(\"DELETE FROM dbo.Models WHERE ModelName ='rxDTree' AND ModelLanguage ='Python'\");\n",
    "cursor.execute(\"INSERT INTO dbo.Models(ModelName,ModelLanguage,Model) values (?,?,?)\", \n",
    "               'rxDTree','Python',rx_trees_model)\n",
    "conn.commit()"
   ]
  }
 ],
 "metadata": {
  "kernelspec": {
   "display_name": "Python 3",
   "language": "python",
   "name": "python3"
  },
  "language_info": {
   "codemirror_mode": {
    "name": "ipython",
    "version": 3
   },
   "file_extension": ".py",
   "mimetype": "text/x-python",
   "name": "python",
   "nbconvert_exporter": "python",
   "pygments_lexer": "ipython3",
   "version": "3.5.2"
  }
 },
 "nbformat": 4,
 "nbformat_minor": 2
}
