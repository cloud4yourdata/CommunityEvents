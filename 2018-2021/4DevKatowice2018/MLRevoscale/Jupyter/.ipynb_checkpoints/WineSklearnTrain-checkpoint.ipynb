{
 "cells": [
  {
   "cell_type": "code",
   "execution_count": 3,
   "metadata": {
    "collapsed": true
   },
   "outputs": [],
   "source": [
    "import pandas as pd\n",
    "import pickle\n",
    "import pyodbc\n",
    "from sklearn.model_selection import train_test_split\n",
    "from sklearn.linear_model import LinearRegression\n",
    "from sklearn.metrics import mean_squared_error\n",
    "from sklearn.metrics import r2_score"
   ]
  },
  {
   "cell_type": "code",
   "execution_count": 5,
   "metadata": {
    "collapsed": true
   },
   "outputs": [],
   "source": [
    "# Connection string to connect to SQL Server named instance\n",
    "conn_str = 'Driver=SQL Server;Server=.;Database=RevoScaleDb;Trusted_Connection=True;'\n",
    "query ='SELECT * FROM  [dbo].[WineTrain] ORDER BY Id';\n",
    "conn = pyodbc.connect(conn_str)\n",
    "#Get traing dataset\n",
    "wines = pd.read_sql(query,conn)"
   ]
  },
  {
   "cell_type": "code",
   "execution_count": 6,
   "metadata": {},
   "outputs": [
    {
     "data": {
      "text/html": [
       "<div>\n",
       "<table border=\"1\" class=\"dataframe\">\n",
       "  <thead>\n",
       "    <tr style=\"text-align: right;\">\n",
       "      <th></th>\n",
       "      <th>Id</th>\n",
       "      <th>WineId</th>\n",
       "      <th>Facidity</th>\n",
       "      <th>Vacidity</th>\n",
       "      <th>Citric</th>\n",
       "      <th>Sugar</th>\n",
       "      <th>Chlorides</th>\n",
       "      <th>Fsulfur</th>\n",
       "      <th>Tsulfur</th>\n",
       "      <th>Density</th>\n",
       "      <th>pH</th>\n",
       "      <th>Sulphates</th>\n",
       "      <th>Alcohol</th>\n",
       "      <th>Quality</th>\n",
       "      <th>Color</th>\n",
       "    </tr>\n",
       "  </thead>\n",
       "  <tbody>\n",
       "    <tr>\n",
       "      <th>0</th>\n",
       "      <td>1</td>\n",
       "      <td>1</td>\n",
       "      <td>7.0</td>\n",
       "      <td>0.27</td>\n",
       "      <td>0.36</td>\n",
       "      <td>20.7</td>\n",
       "      <td>0.045</td>\n",
       "      <td>45.0</td>\n",
       "      <td>170.0</td>\n",
       "      <td>1.0010</td>\n",
       "      <td>3.00</td>\n",
       "      <td>0.45</td>\n",
       "      <td>8.8</td>\n",
       "      <td>6</td>\n",
       "      <td>white</td>\n",
       "    </tr>\n",
       "    <tr>\n",
       "      <th>1</th>\n",
       "      <td>2</td>\n",
       "      <td>2</td>\n",
       "      <td>6.3</td>\n",
       "      <td>0.30</td>\n",
       "      <td>0.34</td>\n",
       "      <td>1.6</td>\n",
       "      <td>0.049</td>\n",
       "      <td>14.0</td>\n",
       "      <td>132.0</td>\n",
       "      <td>0.9940</td>\n",
       "      <td>3.30</td>\n",
       "      <td>0.49</td>\n",
       "      <td>9.5</td>\n",
       "      <td>6</td>\n",
       "      <td>white</td>\n",
       "    </tr>\n",
       "    <tr>\n",
       "      <th>2</th>\n",
       "      <td>3</td>\n",
       "      <td>3</td>\n",
       "      <td>8.1</td>\n",
       "      <td>0.28</td>\n",
       "      <td>0.40</td>\n",
       "      <td>6.9</td>\n",
       "      <td>0.050</td>\n",
       "      <td>30.0</td>\n",
       "      <td>97.0</td>\n",
       "      <td>0.9951</td>\n",
       "      <td>3.26</td>\n",
       "      <td>0.44</td>\n",
       "      <td>10.1</td>\n",
       "      <td>6</td>\n",
       "      <td>white</td>\n",
       "    </tr>\n",
       "    <tr>\n",
       "      <th>3</th>\n",
       "      <td>4</td>\n",
       "      <td>4</td>\n",
       "      <td>7.2</td>\n",
       "      <td>0.23</td>\n",
       "      <td>0.32</td>\n",
       "      <td>8.5</td>\n",
       "      <td>0.058</td>\n",
       "      <td>47.0</td>\n",
       "      <td>186.0</td>\n",
       "      <td>0.9956</td>\n",
       "      <td>3.19</td>\n",
       "      <td>0.40</td>\n",
       "      <td>9.9</td>\n",
       "      <td>6</td>\n",
       "      <td>white</td>\n",
       "    </tr>\n",
       "    <tr>\n",
       "      <th>4</th>\n",
       "      <td>5</td>\n",
       "      <td>5</td>\n",
       "      <td>7.2</td>\n",
       "      <td>0.23</td>\n",
       "      <td>0.32</td>\n",
       "      <td>8.5</td>\n",
       "      <td>0.058</td>\n",
       "      <td>47.0</td>\n",
       "      <td>186.0</td>\n",
       "      <td>0.9956</td>\n",
       "      <td>3.19</td>\n",
       "      <td>0.40</td>\n",
       "      <td>9.9</td>\n",
       "      <td>6</td>\n",
       "      <td>white</td>\n",
       "    </tr>\n",
       "  </tbody>\n",
       "</table>\n",
       "</div>"
      ],
      "text/plain": [
       "   Id  WineId  Facidity  Vacidity  Citric  Sugar  Chlorides  Fsulfur  Tsulfur  \\\n",
       "0   1       1       7.0      0.27    0.36   20.7      0.045     45.0    170.0   \n",
       "1   2       2       6.3      0.30    0.34    1.6      0.049     14.0    132.0   \n",
       "2   3       3       8.1      0.28    0.40    6.9      0.050     30.0     97.0   \n",
       "3   4       4       7.2      0.23    0.32    8.5      0.058     47.0    186.0   \n",
       "4   5       5       7.2      0.23    0.32    8.5      0.058     47.0    186.0   \n",
       "\n",
       "   Density    pH  Sulphates  Alcohol  Quality  Color  \n",
       "0   1.0010  3.00       0.45      8.8        6  white  \n",
       "1   0.9940  3.30       0.49      9.5        6  white  \n",
       "2   0.9951  3.26       0.44     10.1        6  white  \n",
       "3   0.9956  3.19       0.40      9.9        6  white  \n",
       "4   0.9956  3.19       0.40      9.9        6  white  "
      ]
     },
     "execution_count": 6,
     "metadata": {},
     "output_type": "execute_result"
    }
   ],
   "source": [
    "wines.head()"
   ]
  },
  {
   "cell_type": "code",
   "execution_count": 7,
   "metadata": {
    "collapsed": true
   },
   "outputs": [],
   "source": [
    "#Clean dataset\n",
    "features= wines.columns.drop([\"Id\", \"WineId\",\"Color\",\"Quality\"])\n",
    "columns = wines.columns.drop([\"Id\", \"WineId\",\"Color\"])\n",
    "target =\"Quality\"\n",
    "x = wines[features]\n",
    "y = wines[target]"
   ]
  },
  {
   "cell_type": "code",
   "execution_count": 8,
   "metadata": {},
   "outputs": [
    {
     "data": {
      "text/plain": [
       "Quality      1.000000\n",
       "Alcohol      0.459498\n",
       "Citric       0.076710\n",
       "Fsulfur      0.050007\n",
       "pH           0.049022\n",
       "Sulphates    0.042432\n",
       "Tsulfur     -0.053392\n",
       "Sugar       -0.056267\n",
       "Facidity    -0.061785\n",
       "Chlorides   -0.182914\n",
       "Vacidity    -0.250617\n",
       "Density     -0.307648\n",
       "Name: Quality, dtype: float64"
      ]
     },
     "execution_count": 8,
     "metadata": {},
     "output_type": "execute_result"
    }
   ],
   "source": [
    "correlation = wines[columns].corr()\n",
    "correlation[\"Quality\"].sort_values(ascending=False)"
   ]
  },
  {
   "cell_type": "code",
   "execution_count": 9,
   "metadata": {
    "collapsed": true
   },
   "outputs": [],
   "source": [
    "#Split dataset\n",
    "x_train,x_test,y_train,y_test=train_test_split(x,y,random_state=42)"
   ]
  },
  {
   "cell_type": "code",
   "execution_count": 10,
   "metadata": {},
   "outputs": [
    {
     "data": {
      "text/html": [
       "<div>\n",
       "<table border=\"1\" class=\"dataframe\">\n",
       "  <thead>\n",
       "    <tr style=\"text-align: right;\">\n",
       "      <th></th>\n",
       "      <th>Facidity</th>\n",
       "      <th>Vacidity</th>\n",
       "      <th>Citric</th>\n",
       "      <th>Sugar</th>\n",
       "      <th>Chlorides</th>\n",
       "      <th>Fsulfur</th>\n",
       "      <th>Tsulfur</th>\n",
       "      <th>Density</th>\n",
       "      <th>pH</th>\n",
       "      <th>Sulphates</th>\n",
       "      <th>Alcohol</th>\n",
       "    </tr>\n",
       "  </thead>\n",
       "  <tbody>\n",
       "    <tr>\n",
       "      <th>1491</th>\n",
       "      <td>7.5</td>\n",
       "      <td>0.20</td>\n",
       "      <td>0.49</td>\n",
       "      <td>1.3</td>\n",
       "      <td>0.031</td>\n",
       "      <td>8.0</td>\n",
       "      <td>97.0</td>\n",
       "      <td>0.99180</td>\n",
       "      <td>3.06</td>\n",
       "      <td>0.62</td>\n",
       "      <td>11.1</td>\n",
       "    </tr>\n",
       "    <tr>\n",
       "      <th>3289</th>\n",
       "      <td>6.6</td>\n",
       "      <td>0.28</td>\n",
       "      <td>0.42</td>\n",
       "      <td>8.2</td>\n",
       "      <td>0.044</td>\n",
       "      <td>60.0</td>\n",
       "      <td>196.0</td>\n",
       "      <td>0.99562</td>\n",
       "      <td>3.14</td>\n",
       "      <td>0.48</td>\n",
       "      <td>9.4</td>\n",
       "    </tr>\n",
       "    <tr>\n",
       "      <th>2080</th>\n",
       "      <td>6.8</td>\n",
       "      <td>0.36</td>\n",
       "      <td>0.32</td>\n",
       "      <td>1.6</td>\n",
       "      <td>0.039</td>\n",
       "      <td>10.0</td>\n",
       "      <td>124.0</td>\n",
       "      <td>0.99480</td>\n",
       "      <td>3.30</td>\n",
       "      <td>0.67</td>\n",
       "      <td>9.6</td>\n",
       "    </tr>\n",
       "    <tr>\n",
       "      <th>3504</th>\n",
       "      <td>8.8</td>\n",
       "      <td>0.41</td>\n",
       "      <td>0.64</td>\n",
       "      <td>2.2</td>\n",
       "      <td>0.093</td>\n",
       "      <td>9.0</td>\n",
       "      <td>42.0</td>\n",
       "      <td>0.99860</td>\n",
       "      <td>3.54</td>\n",
       "      <td>0.66</td>\n",
       "      <td>10.5</td>\n",
       "    </tr>\n",
       "    <tr>\n",
       "      <th>4033</th>\n",
       "      <td>8.3</td>\n",
       "      <td>0.58</td>\n",
       "      <td>0.13</td>\n",
       "      <td>2.9</td>\n",
       "      <td>0.096</td>\n",
       "      <td>14.0</td>\n",
       "      <td>63.0</td>\n",
       "      <td>0.99840</td>\n",
       "      <td>3.17</td>\n",
       "      <td>0.62</td>\n",
       "      <td>9.1</td>\n",
       "    </tr>\n",
       "  </tbody>\n",
       "</table>\n",
       "</div>"
      ],
      "text/plain": [
       "      Facidity  Vacidity  Citric  Sugar  Chlorides  Fsulfur  Tsulfur  Density  \\\n",
       "1491       7.5      0.20    0.49    1.3      0.031      8.0     97.0  0.99180   \n",
       "3289       6.6      0.28    0.42    8.2      0.044     60.0    196.0  0.99562   \n",
       "2080       6.8      0.36    0.32    1.6      0.039     10.0    124.0  0.99480   \n",
       "3504       8.8      0.41    0.64    2.2      0.093      9.0     42.0  0.99860   \n",
       "4033       8.3      0.58    0.13    2.9      0.096     14.0     63.0  0.99840   \n",
       "\n",
       "        pH  Sulphates  Alcohol  \n",
       "1491  3.06       0.62     11.1  \n",
       "3289  3.14       0.48      9.4  \n",
       "2080  3.30       0.67      9.6  \n",
       "3504  3.54       0.66     10.5  \n",
       "4033  3.17       0.62      9.1  "
      ]
     },
     "execution_count": 10,
     "metadata": {},
     "output_type": "execute_result"
    }
   ],
   "source": [
    "x_train.head()"
   ]
  },
  {
   "cell_type": "code",
   "execution_count": 11,
   "metadata": {},
   "outputs": [
    {
     "name": "stdout",
     "output_type": "stream",
     "text": [
      "Accuracy: 29%\n"
     ]
    }
   ],
   "source": [
    "# Initialize the model class.\n",
    "lin_model = LinearRegression()\n",
    "# Fit the model to the training data.\n",
    "lin_model.fit(x_train,y_train)\n",
    "#Returns the coefficient of determination R^2 of the prediction\n",
    "accuracy = lin_model.score(x_test, y_test)\n",
    "print(\"Accuracy: {}%\".format(int(round(accuracy * 100))))"
   ]
  },
  {
   "cell_type": "code",
   "execution_count": 12,
   "metadata": {},
   "outputs": [
    {
     "data": {
      "text/plain": [
       "0.55902077508312253"
      ]
     },
     "execution_count": 12,
     "metadata": {},
     "output_type": "execute_result"
    }
   ],
   "source": [
    "# Make predictions using the testing set\n",
    "y_pred = lin_model.predict(x_test)\n",
    "mse = mean_squared_error(y_test, y_pred)\n",
    "mse"
   ]
  },
  {
   "cell_type": "code",
   "execution_count": 13,
   "metadata": {
    "collapsed": true
   },
   "outputs": [],
   "source": [
    "#Serialize model to file\n",
    "modelFile =\"d:\\\\Repos\\\\Cloud4YourData\\\\Demos\\\\4DevKatowice2018\\\\MLRevoscale\\\\Data\\\\Models\\\\lin_model.pkl\"\n",
    "with open(modelFile, 'wb') as file:\n",
    "    pickle.dump(lin_model, file)"
   ]
  },
  {
   "cell_type": "code",
   "execution_count": 14,
   "metadata": {
    "collapsed": true
   },
   "outputs": [],
   "source": [
    "#Save model in Database\n",
    "lin_model_ser = pickle.dumps(lin_model)\n",
    "#Save model\n",
    "conn = pyodbc.connect(conn_str)\n",
    "cursor = conn.cursor()\n",
    "cursor.execute(\"DELETE FROM dbo.Models WHERE ModelName ='LinReg' AND ModelLanguage ='Python'\");\n",
    "cursor.execute(\"INSERT INTO dbo.Models(ModelName,ModelLanguage,Model) values (?,?,?)\", \n",
    "               'LinReg','Python',lin_model_ser)\n",
    "conn.commit()"
   ]
  },
  {
   "cell_type": "code",
   "execution_count": 22,
   "metadata": {},
   "outputs": [
    {
     "name": "stdout",
     "output_type": "stream",
     "text": [
      "Accuracy: 32%\n"
     ]
    }
   ],
   "source": [
    "#Support Vector Regression (SVR)\n",
    "from sklearn.svm import SVR\n",
    "svr_model = SVR()\n",
    "svr_model.fit(x_train, y_train)\n",
    "#Returns the coefficient of determination R^2 of the prediction\n",
    "accuracy = svr_model.score(x_test, y_test)\n",
    "print(\"Accuracy: {}%\".format(int(round(accuracy * 100))))"
   ]
  },
  {
   "cell_type": "code",
   "execution_count": 24,
   "metadata": {},
   "outputs": [
    {
     "data": {
      "text/plain": [
       "0.53415671095336414"
      ]
     },
     "execution_count": 24,
     "metadata": {},
     "output_type": "execute_result"
    }
   ],
   "source": [
    "y_pred = svr_model.predict(x_test)\n",
    "mse = mean_squared_error(y_test, y_pred)\n",
    "mse"
   ]
  },
  {
   "cell_type": "code",
   "execution_count": 25,
   "metadata": {
    "collapsed": true
   },
   "outputs": [],
   "source": [
    "#Serialize model to file\n",
    "modelFile =\"d:\\\\Repos\\\\Cloud4YourData\\\\Demos\\\\4DevKatowice2018\\\\MLRevoscale\\\\Data\\\\Models\\\\svr_model.pkl\"\n",
    "with open(modelFile, 'wb') as file:\n",
    "    pickle.dump(svr_model, file)"
   ]
  },
  {
   "cell_type": "code",
   "execution_count": 26,
   "metadata": {
    "collapsed": true
   },
   "outputs": [],
   "source": [
    "#Save model in Database\n",
    "svm_model_ser = pickle.dumps(svr_model)\n",
    "#Save model\n",
    "conn = pyodbc.connect(conn_str)\n",
    "cursor = conn.cursor()\n",
    "cursor.execute(\"DELETE FROM dbo.Models WHERE ModelName ='SVR' AND ModelLanguage ='Python'\");\n",
    "cursor.execute(\"INSERT INTO dbo.Models(ModelName,ModelLanguage,Model) values (?,?,?)\", \n",
    "               'SVM','Python',svm_model_ser)\n",
    "conn.commit()"
   ]
  }
 ],
 "metadata": {
  "kernelspec": {
   "display_name": "Python 3",
   "language": "python",
   "name": "python3"
  },
  "language_info": {
   "codemirror_mode": {
    "name": "ipython",
    "version": 3
   },
   "file_extension": ".py",
   "mimetype": "text/x-python",
   "name": "python",
   "nbconvert_exporter": "python",
   "pygments_lexer": "ipython3",
   "version": "3.5.2"
  }
 },
 "nbformat": 4,
 "nbformat_minor": 2
}
