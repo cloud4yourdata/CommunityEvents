{
 "cells": [
  {
   "cell_type": "code",
   "execution_count": 3,
   "metadata": {
    "collapsed": true
   },
   "outputs": [],
   "source": [
    "import pandas as pd\n",
    "import pyodbc\n",
    "from sklearn.model_selection import train_test_split\n",
    "from sklearn.metrics import r2_score"
   ]
  },
  {
   "cell_type": "code",
   "execution_count": 4,
   "metadata": {
    "collapsed": true
   },
   "outputs": [],
   "source": [
    "# Connection string to connect to SQL Server named instance\n",
    "conn_str = 'Driver=SQL Server;Server=.;Database=RevoScaleDb;Trusted_Connection=True;'\n",
    "query ='SELECT Facidity, Vacidity, Citric, Sugar, Chlorides, \\\n",
    "               Fsulfur, Tsulfur, Density, pH,Sulphates, Alcohol,\\\n",
    "               CASE WHEN Color =\\'red\\' THEN 1 ELSE 0 END ColNum,\\\n",
    "               Quality\\\n",
    "        FROM dbo.WineTrain\\\n",
    "        ORDER BY Id';\n",
    "conn = pyodbc.connect(conn_str)\n",
    "#Get traing dataset\n",
    "wines = pd.read_sql(query,conn)"
   ]
  },
  {
   "cell_type": "code",
   "execution_count": 5,
   "metadata": {
    "collapsed": true
   },
   "outputs": [],
   "source": [
    "wines_train, wines_test = train_test_split(wines)"
   ]
  },
  {
   "cell_type": "code",
   "execution_count": 16,
   "metadata": {},
   "outputs": [
    {
     "data": {
      "text/html": [
       "<div>\n",
       "<table border=\"1\" class=\"dataframe\">\n",
       "  <thead>\n",
       "    <tr style=\"text-align: right;\">\n",
       "      <th></th>\n",
       "      <th>Facidity</th>\n",
       "      <th>Vacidity</th>\n",
       "      <th>Citric</th>\n",
       "      <th>Sugar</th>\n",
       "      <th>Chlorides</th>\n",
       "      <th>Fsulfur</th>\n",
       "      <th>Tsulfur</th>\n",
       "      <th>Density</th>\n",
       "      <th>pH</th>\n",
       "      <th>Sulphates</th>\n",
       "      <th>Alcohol</th>\n",
       "      <th>ColNum</th>\n",
       "      <th>Quality</th>\n",
       "    </tr>\n",
       "  </thead>\n",
       "  <tbody>\n",
       "    <tr>\n",
       "      <th>4217</th>\n",
       "      <td>10.0</td>\n",
       "      <td>0.560</td>\n",
       "      <td>0.24</td>\n",
       "      <td>2.2</td>\n",
       "      <td>0.079</td>\n",
       "      <td>19.0</td>\n",
       "      <td>58.0</td>\n",
       "      <td>0.99910</td>\n",
       "      <td>3.18</td>\n",
       "      <td>0.56</td>\n",
       "      <td>10.1</td>\n",
       "      <td>1</td>\n",
       "      <td>6</td>\n",
       "    </tr>\n",
       "    <tr>\n",
       "      <th>3293</th>\n",
       "      <td>6.8</td>\n",
       "      <td>0.170</td>\n",
       "      <td>0.35</td>\n",
       "      <td>1.8</td>\n",
       "      <td>0.040</td>\n",
       "      <td>29.0</td>\n",
       "      <td>84.0</td>\n",
       "      <td>0.98961</td>\n",
       "      <td>2.91</td>\n",
       "      <td>0.57</td>\n",
       "      <td>12.0</td>\n",
       "      <td>0</td>\n",
       "      <td>7</td>\n",
       "    </tr>\n",
       "    <tr>\n",
       "      <th>4205</th>\n",
       "      <td>6.9</td>\n",
       "      <td>0.765</td>\n",
       "      <td>0.18</td>\n",
       "      <td>2.4</td>\n",
       "      <td>0.243</td>\n",
       "      <td>5.5</td>\n",
       "      <td>48.0</td>\n",
       "      <td>0.99612</td>\n",
       "      <td>3.40</td>\n",
       "      <td>0.60</td>\n",
       "      <td>10.3</td>\n",
       "      <td>1</td>\n",
       "      <td>6</td>\n",
       "    </tr>\n",
       "    <tr>\n",
       "      <th>1612</th>\n",
       "      <td>7.8</td>\n",
       "      <td>0.260</td>\n",
       "      <td>0.49</td>\n",
       "      <td>3.2</td>\n",
       "      <td>0.027</td>\n",
       "      <td>28.0</td>\n",
       "      <td>87.0</td>\n",
       "      <td>0.99190</td>\n",
       "      <td>3.03</td>\n",
       "      <td>0.32</td>\n",
       "      <td>11.3</td>\n",
       "      <td>0</td>\n",
       "      <td>7</td>\n",
       "    </tr>\n",
       "    <tr>\n",
       "      <th>3281</th>\n",
       "      <td>6.5</td>\n",
       "      <td>0.320</td>\n",
       "      <td>0.30</td>\n",
       "      <td>2.3</td>\n",
       "      <td>0.051</td>\n",
       "      <td>20.0</td>\n",
       "      <td>127.0</td>\n",
       "      <td>0.98964</td>\n",
       "      <td>3.13</td>\n",
       "      <td>0.52</td>\n",
       "      <td>12.8</td>\n",
       "      <td>0</td>\n",
       "      <td>6</td>\n",
       "    </tr>\n",
       "  </tbody>\n",
       "</table>\n",
       "</div>"
      ],
      "text/plain": [
       "      Facidity  Vacidity  Citric  Sugar  Chlorides  Fsulfur  Tsulfur  Density  \\\n",
       "4217      10.0     0.560    0.24    2.2      0.079     19.0     58.0  0.99910   \n",
       "3293       6.8     0.170    0.35    1.8      0.040     29.0     84.0  0.98961   \n",
       "4205       6.9     0.765    0.18    2.4      0.243      5.5     48.0  0.99612   \n",
       "1612       7.8     0.260    0.49    3.2      0.027     28.0     87.0  0.99190   \n",
       "3281       6.5     0.320    0.30    2.3      0.051     20.0    127.0  0.98964   \n",
       "\n",
       "        pH  Sulphates  Alcohol  ColNum  Quality  \n",
       "4217  3.18       0.56     10.1       1        6  \n",
       "3293  2.91       0.57     12.0       0        7  \n",
       "4205  3.40       0.60     10.3       1        6  \n",
       "1612  3.03       0.32     11.3       0        7  \n",
       "3281  3.13       0.52     12.8       0        6  "
      ]
     },
     "execution_count": 16,
     "metadata": {},
     "output_type": "execute_result"
    }
   ],
   "source": [
    "wines_test.head()"
   ]
  },
  {
   "cell_type": "code",
   "execution_count": 6,
   "metadata": {},
   "outputs": [
    {
     "name": "stdout",
     "output_type": "stream",
     "text": [
      "\n",
      "oneFilePerTree is not a logical and is being reset to FALSE\n",
      "\n",
      "allowDiskWrite is not a logical and is being reset to true\n",
      "\n",
      "useWriteDataSource is not an integer and is being reset to 0\n",
      "\n",
      "autoCleanup is not a logical and is being reset to TRUE\n",
      "Rows Read: 3411, Total Rows Processed: 3411, Total Chunk Time: 0.018 seconds \n",
      "Rows Read: 3411, Total Rows Processed: 3411, Total Chunk Time: 0.014 seconds \n",
      "Rows Read: 3411, Total Rows Processed: 3411, Total Chunk Time: 0.018 secondsoneFilePerTree is not a logical and is being reset to FALSE\n",
      " \n",
      "Rows Read: 2, Total Rows Processed: 2, Total Chunk Time: 0.003 seconds \n",
      "Rows Read: 3411, Total Rows Processed: 3411, Total Chunk Time: 0.017 seconds \n",
      "Rows Read: 4, Total Rows Processed: 4, Total Chunk Time: 0.005 seconds \n",
      "Rows Read: 3411, Total Rows Processed: 3411, Total Chunk Time: 0.022 seconds \n",
      "Rows Read: 8, Total Rows Processed: 8, Total Chunk Time: 0.012 seconds \n",
      "Rows Read: 3411, Total Rows Processed: 3411, Total Chunk Time: 0.022 seconds \n",
      "Rows Read: 16, Total Rows Processed: 16, Total Chunk Time: 0.020 seconds \n",
      "Rows Read: 3411, Total Rows Processed: 3411, Total Chunk Time: 0.025 seconds \n",
      "Rows Read: 24, Total Rows Processed: 24, Total Chunk Time: 0.025 seconds \n",
      "Rows Read: 3411, Total Rows Processed: 3411, Total Chunk Time: 0.019 seconds \n",
      "Rows Read: 30, Total Rows Processed: 30, Total Chunk Time: 0.027 seconds \n",
      "Rows Read: 3411, Total Rows Processed: 3411, Total Chunk Time: 0.017 seconds \n",
      "Rows Read: 32, Total Rows Processed: 32, Total Chunk Time: 0.035 seconds \n",
      "Rows Read: 3411, Total Rows Processed: 3411, Total Chunk Time: 0.021 seconds \n",
      "Rows Read: 34, Total Rows Processed: 34, Total Chunk Time: 0.017 seconds \n",
      "Rows Read: 3411, Total Rows Processed: 3411, Total Chunk Time: 0.016 seconds \n",
      "Rows Read: 18, Total Rows Processed: 18, Total Chunk Time: 0.017 seconds \n",
      "Rows Read: 3411, Total Rows Processed: 3411, Total Chunk Time: 0.016 seconds \n",
      "Rows Read: 12, Total Rows Processed: 12, Total Chunk Time: 0.001 seconds \n",
      "Rows Read: 3411, Total Rows Processed: 3411, Total Chunk Time: 0.011 seconds \n",
      "Rows Read: 3411, Total Rows Processed: 3411, Total Chunk Time: 0.016 seconds \n",
      "Rows Read: 2, Total Rows Processed: 2, Total Chunk Time: 0.005 seconds \n",
      "Rows Read: 3411, Total Rows Processed: 3411, Total Chunk Time: 0.015 seconds \n",
      "Rows Read: 4, Total Rows Processed: 4, Total Chunk Time: 0.005 seconds \n",
      "Rows Read: 3411, Total Rows Processed: 3411, Total Chunk Time: 0.014 seconds \n",
      "Rows Read: 8, Total Rows Processed: 8, Total Chunk Time: 0.008 seconds \n",
      "Rows Read: 3411, Total Rows Processed: 3411, Total Chunk Time: 0.015 seconds \n",
      "Rows Read: 12, Total Rows Processed: 12, Total Chunk Time: 0.014 seconds \n",
      "Rows Read: 3411, Total Rows Processed: 3411, Total Chunk Time: 0.015 seconds \n",
      "Rows Read: 20, Total Rows Processed: 20, Total Chunk Time: 0.021 seconds \n",
      "Rows Read: 3411, Total Rows Processed: 3411, Total Chunk Time: 0.014 seconds \n",
      "Rows Read: 16, Total Rows Processed: 16, Total Chunk Time: 0.018 seconds \n",
      "Rows Read: 3411, Total Rows Processed: 3411, Total Chunk Time: 0.018 seconds \n",
      "Rows Read: 12, Total Rows Processed: 12, Total Chunk Time: 0.014 seconds \n",
      "Rows Read: 3411, Total Rows Processed: 3411, Total Chunk Time: 0.018 seconds \n",
      "Rows Read: 14, Total Rows Processed: 14, Total Chunk Time: 0.015 seconds \n",
      "Rows Read: 3411, Total Rows Processed: 3411, Total Chunk Time: 0.016 seconds \n",
      "Rows Read: 6, Total Rows Processed: 6, Total Chunk Time: 0.008 seconds \n",
      "Rows Read: 3411, Total Rows Processed: 3411, Total Chunk Time: 0.019 seconds \n",
      "Rows Read: 4, Total Rows Processed: 4, Total Chunk Time: Less than .001 seconds \n",
      "Rows Read: 3411, Total Rows Processed: 3411, Total Chunk Time: 0.009 seconds \n",
      "Rows Read: 3411, Total Rows Processed: 3411, Total Chunk Time: 0.030 seconds \n",
      "Rows Read: 3411, Total Rows Processed: 3411, Total Chunk Time: 0.016 seconds \n",
      "Rows Read: 2, Total Rows Processed: 2, Total Chunk Time: 0.003 seconds \n",
      "Rows Read: 3411, Total Rows Processed: 3411, Total Chunk Time: 0.019 seconds \n",
      "Rows Read: 4, Total Rows Processed: 4, Total Chunk Time: 0.007 seconds \n",
      "Rows Read: 3411, Total Rows Processed: 3411, Total Chunk Time: 0.014 seconds \n",
      "Rows Read: 8, Total Rows Processed: 8, Total Chunk Time: 0.015 seconds \n",
      "Rows Read: 3411, Total Rows Processed: 3411, Total Chunk Time: 0.017 seconds \n",
      "Rows Read: 16, Total Rows Processed: 16, Total Chunk Time: 0.016 seconds \n",
      "Rows Read: 3411, Total Rows Processed: 3411, Total Chunk Time: 0.014 seconds \n",
      "Rows Read: 18, Total Rows Processed: 18, Total Chunk Time: 0.012 seconds \n",
      "Rows Read: 3411, Total Rows Processed: 3411, Total Chunk Time: 0.017 seconds \n",
      "Rows Read: 16, Total Rows Processed: 16, Total Chunk Time: 0.017 seconds \n",
      "Rows Read: 3411, Total Rows Processed: 3411, Total Chunk Time: 0.016 seconds \n",
      "Rows Read: 16, Total Rows Processed: 16, Total Chunk Time: 0.007 seconds \n",
      "Rows Read: 3411, Total Rows Processed: 3411, Total Chunk Time: 0.018 seconds \n",
      "Rows Read: 6, Total Rows Processed: 6, Total Chunk Time: 0.004 seconds \n",
      "Rows Read: 3411, Total Rows Processed: 3411, Total Chunk Time: 0.020 seconds \n",
      "Rows Read: 2, Total Rows Processed: 2, Total Chunk Time: 0.004 seconds \n",
      "Rows Read: 3411, Total Rows Processed: 3411, Total Chunk Time: 0.018 seconds \n",
      "Rows Read: 2, Total Rows Processed: 2, Total Chunk Time: 0.001 seconds \n",
      "Rows Read: 3411, Total Rows Processed: 3411, Total Chunk Time: 0.011 seconds \n",
      "Rows Read: 3411, Total Rows Processed: 3411, Total Chunk Time: 0.002 seconds \n",
      "\n",
      "Elapsed time for DTreeEstimation: 1.324 secs.\n",
      "\n",
      "Elapsed time for BxDTreeBase: 1.330 secs.\n",
      " \n"
     ]
    }
   ],
   "source": [
    "from revoscalepy import rx_dtree\n",
    "features = wines.columns.drop([\"Quality\"])\n",
    "model = rx_dtree(\"Quality ~\" + \"+\".join(features), data=wines_train, method=\"regression\")"
   ]
  },
  {
   "cell_type": "code",
   "execution_count": 7,
   "metadata": {},
   "outputs": [
    {
     "name": "stdout",
     "output_type": "stream",
     "text": [
      "Rows Read: 1138, Total Rows Processed: 1138, Total Chunk Time: 0.002 seconds \n",
      "   Quality_Pred  Quality\n",
      "0      6.352941      6.0\n",
      "1      5.369565      5.0\n",
      "2      6.181818      5.0\n",
      "3      4.600000      5.0\n",
      "4      6.750000      7.0\n"
     ]
    }
   ],
   "source": [
    "from revoscalepy import rx_predict\n",
    "pred = rx_predict(model, wines_test, extra_vars_to_write=[\"Quality\"])\n",
    "print(pred.head())"
   ]
  },
  {
   "cell_type": "code",
   "execution_count": 19,
   "metadata": {},
   "outputs": [
    {
     "name": "stdout",
     "output_type": "stream",
     "text": [
      "Accuracy: 30%\n"
     ]
    }
   ],
   "source": [
    "r2 = r2_score(pred.Quality, pred.Quality_Pred)\n",
    "print(\"Accuracy: {}%\".format(int(round(r2 * 100))))"
   ]
  },
  {
   "cell_type": "code",
   "execution_count": 8,
   "metadata": {
    "collapsed": true
   },
   "outputs": [],
   "source": [
    "from revoscalepy import rx_serialize_model\n",
    "rx_trees_model = rx_serialize_model(model, realtime_scoring_only = True);"
   ]
  },
  {
   "cell_type": "code",
   "execution_count": 9,
   "metadata": {
    "collapsed": true
   },
   "outputs": [],
   "source": [
    "#Save model\n",
    "conn = pyodbc.connect(conn_str)\n",
    "cursor = conn.cursor()\n",
    "cursor.execute(\"DELETE FROM dbo.Models WHERE ModelName ='rxDTree' AND ModelLanguage ='RevoScalePy'\");\n",
    "cursor.execute(\"INSERT INTO dbo.Models(ModelName,ModelLanguage,Model) values (?,?,?)\", \n",
    "               'rxDTree','RevoScalePy',rx_trees_model)\n",
    "conn.commit()"
   ]
  }
 ],
 "metadata": {
  "kernelspec": {
   "display_name": "Python 3",
   "language": "python",
   "name": "python3"
  },
  "language_info": {
   "codemirror_mode": {
    "name": "ipython",
    "version": 3
   },
   "file_extension": ".py",
   "mimetype": "text/x-python",
   "name": "python",
   "nbconvert_exporter": "python",
   "pygments_lexer": "ipython3",
   "version": "3.5.2"
  }
 },
 "nbformat": 4,
 "nbformat_minor": 2
}
