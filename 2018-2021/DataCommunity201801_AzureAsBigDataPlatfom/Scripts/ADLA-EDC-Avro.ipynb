{
 "cells": [
  {
   "cell_type": "code",
   "execution_count": 1,
   "metadata": {
    "collapsed": false
   },
   "outputs": [
    {
     "data": {
      "text/html": [
       "Current session configs: <tt>{u'kind': 'pyspark3', u'conf': {u'spark.jars.packages': u'com.databricks:spark-avro_2.11:3.1.0'}}</tt><br>"
      ],
      "text/plain": [
       "<IPython.core.display.HTML object>"
      ]
     },
     "metadata": {},
     "output_type": "execute_result"
    },
    {
     "data": {
      "text/html": [
       "No active sessions."
      ],
      "text/plain": [
       "<IPython.core.display.HTML object>"
      ]
     },
     "metadata": {},
     "output_type": "execute_result"
    }
   ],
   "source": [
    "%%configure -f\n",
    "{\"conf\": {\"spark.jars.packages\": \"com.databricks:spark-avro_2.11:3.1.0\" }}"
   ]
  },
  {
   "cell_type": "code",
   "execution_count": 2,
   "metadata": {
    "collapsed": false
   },
   "outputs": [
    {
     "name": "stdout",
     "output_type": "stream",
     "text": [
      "Starting Spark application\n"
     ]
    },
    {
     "data": {
      "text/html": [
       "<table>\n<tr><th>ID</th><th>YARN Application ID</th><th>Kind</th><th>State</th><th>Spark UI</th><th>Driver log</th><th>Current session?</th></tr><tr><td>0</td><td>application_1513931680049_0004</td><td>pyspark3</td><td>idle</td><td><a target=\"_blank\" href=\"http://hn1-sparkl.bbtczf3hypjufmfoyzoit54yrd.fx.internal.cloudapp.net:8088/proxy/application_1513931680049_0004/\">Link</a></td><td><a target=\"_blank\" href=\"http://10.0.0.6:30060/node/containerlogs/container_1513931680049_0004_01_000001/livy\">Link</a></td><td>✔</td></tr></table>"
      ],
      "text/plain": [
       "<IPython.core.display.HTML object>"
      ]
     },
     "metadata": {},
     "output_type": "execute_result"
    },
    {
     "name": "stdout",
     "output_type": "stream",
     "text": [
      "SparkSession available as 'spark'.\n"
     ]
    }
   ],
   "source": [
    "from pyspark.sql import SparkSession\n",
    "spark = SparkSession\\\n",
    "    .builder\\\n",
    "    .appName(\"EventDataCapture\") \\\n",
    "    .config('spark.hadoop.avro.mapred.ignore.inputs.without.extension', 'false') \\\n",
    "    .getOrCreate()"
   ]
  },
  {
   "cell_type": "markdown",
   "metadata": {},
   "source": [
    "//Data from ADLS -> result of Event Data Capture"
   ]
  },
  {
   "cell_type": "code",
   "execution_count": 3,
   "metadata": {
    "collapsed": true
   },
   "outputs": [],
   "source": [
    "avroFiles = \"adl://adlssparklab.azuredatalakestore.net/mySamples/edcAvro/*.avro\""
   ]
  },
  {
   "cell_type": "code",
   "execution_count": 4,
   "metadata": {
    "collapsed": false
   },
   "outputs": [],
   "source": [
    "avroDf = spark.read.format(\"com.databricks.spark.avro\").load(avroFiles)\n",
    "jsonRdd = avroDf.select(avroDf.Body.cast(\"string\")).rdd.map(lambda x: x[0])"
   ]
  },
  {
   "cell_type": "code",
   "execution_count": 5,
   "metadata": {
    "collapsed": false
   },
   "outputs": [
    {
     "name": "stdout",
     "output_type": "stream",
     "text": [
      "DataFrame[humidity: bigint, id: bigint, temperature: bigint, timestamp: string, waterLevel: bigint]"
     ]
    }
   ],
   "source": [
    "data = spark.read.json(jsonRdd)\n",
    "print(data)"
   ]
  },
  {
   "cell_type": "code",
   "execution_count": 6,
   "metadata": {
    "collapsed": true
   },
   "outputs": [],
   "source": [
    "data.createOrReplaceTempView(\"edc\")"
   ]
  },
  {
   "cell_type": "code",
   "execution_count": 7,
   "metadata": {
    "collapsed": false
   },
   "outputs": [],
   "source": [
    "res = spark.sql(\"SELECT id,max(waterLevel) FROM edc group by id order by id\")"
   ]
  },
  {
   "cell_type": "code",
   "execution_count": 8,
   "metadata": {
    "collapsed": false
   },
   "outputs": [
    {
     "name": "stdout",
     "output_type": "stream",
     "text": [
      "+---+---------------+\n| id|max(waterLevel)|\n+---+---------------+\n|  2|             18|\n|  4|             57|\n|  6|             98|\n|  8|             59|\n| 10|            113|\n+---+---------------+"
     ]
    }
   ],
   "source": [
    "res.show()"
   ]
  },
  {
   "cell_type": "code",
   "execution_count": null,
   "metadata": {
    "collapsed": true
   },
   "outputs": [],
   "source": [
    "from pyspark.sql.types import *\n",
    "from pyspark.sql.functions import *\n",
    "schema = StructType()\\\n",
    "        .add(\"id\", IntegerType())\\\n",
    "        .add(\"timestamp\", StringType())\\\n",
    "        .add(\"waterLevel\", DoubleType())\\\n",
    "        .add(\"temperature\", DoubleType())\\\n",
    "        .add(\"humidity\", DoubleType())\n",
    "\n",
    "body = (inputStream.selectExpr(\"CAST(body as STRING)\"))\\\n",
    ".select(from_json(col(\"body\"), schema))\n",
    "        \n",
    "#body.createOrReplaceTempView(\"waterevents\")\n",
    "#res = spark.sql(\"SELECT id,max(waterLevel) FROM waterevents group by id order by id\")\n",
    "#res.show()        "
   ]
  }
 ],
 "metadata": {
  "kernelspec": {
   "display_name": "PySpark3",
   "name": "pyspark3kernel",
   "language": ""
  },
  "language_info": {
   "mimetype": "text/x-python",
   "pygments_lexer": "python3",
   "name": "pyspark3",
   "codemirror_mode": {
    "version": 3,
    "name": "python"
   }
  }
 },
 "nbformat": 4,
 "nbformat_minor": 2
}
